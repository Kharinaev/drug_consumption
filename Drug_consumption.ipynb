{
  "nbformat": 4,
  "nbformat_minor": 0,
  "metadata": {
    "colab": {
      "name": "Drug consumption.ipynb",
      "provenance": []
    },
    "kernelspec": {
      "name": "python3",
      "display_name": "Python 3"
    },
    "language_info": {
      "name": "python"
    }
  },
  "cells": [
    {
      "cell_type": "markdown",
      "source": [
        "Описание датасета: https://archive.ics.uci.edu/ml/datasets/Drug+consumption+%28quantified%29"
      ],
      "metadata": {
        "id": "Um30XvHXMK1M"
      }
    },
    {
      "cell_type": "code",
      "metadata": {
        "colab": {
          "base_uri": "https://localhost:8080/"
        },
        "id": "99wiNQQ5Nn2U",
        "outputId": "9feed41a-e964-4bdd-9d36-94f92f990246"
      },
      "source": [
        "!wget https://archive.ics.uci.edu/ml/machine-learning-databases/00373/drug_consumption.data"
      ],
      "execution_count": null,
      "outputs": [
        {
          "output_type": "stream",
          "name": "stdout",
          "text": [
            "--2022-01-25 12:57:49--  https://archive.ics.uci.edu/ml/machine-learning-databases/00373/drug_consumption.data\n",
            "Resolving archive.ics.uci.edu (archive.ics.uci.edu)... 128.195.10.252\n",
            "Connecting to archive.ics.uci.edu (archive.ics.uci.edu)|128.195.10.252|:443... connected.\n",
            "HTTP request sent, awaiting response... 200 OK\n",
            "Length: 346695 (339K) [application/x-httpd-php]\n",
            "Saving to: ‘drug_consumption.data’\n",
            "\n",
            "drug_consumption.da 100%[===================>] 338.57K  --.-KB/s    in 0.1s    \n",
            "\n",
            "2022-01-25 12:57:49 (2.99 MB/s) - ‘drug_consumption.data’ saved [346695/346695]\n",
            "\n"
          ]
        }
      ]
    },
    {
      "cell_type": "code",
      "metadata": {
        "id": "lOsvJKfbNRN4"
      },
      "source": [
        "import numpy as np\n",
        "import pandas as pd\n",
        "\n",
        "data = pd.read_csv('drug_consumption.data', header=None, index_col=0)\n",
        "# data.head()"
      ],
      "execution_count": null,
      "outputs": []
    },
    {
      "cell_type": "code",
      "metadata": {
        "id": "CJrdKouqQ40G",
        "colab": {
          "base_uri": "https://localhost:8080/"
        },
        "outputId": "1707a7bc-3896-4e0c-d849-14e2a0db44c7"
      },
      "source": [
        "import matplotlib.pyplot as plt\n",
        "%matplotlib inline\n",
        "from sklearn.model_selection import train_test_split, GridSearchCV\n",
        "from sklearn.metrics import recall_score\n",
        "from sklearn.svm import SVC\n",
        "from sklearn.linear_model import LogisticRegression\n",
        "from sklearn.ensemble import RandomForestClassifier\n",
        "from sklearn.feature_selection import chi2, SelectKBest\n",
        "!pip install catboost\n",
        "from catboost import CatBoostClassifier"
      ],
      "execution_count": null,
      "outputs": [
        {
          "output_type": "stream",
          "name": "stdout",
          "text": [
            "Collecting catboost\n",
            "  Downloading catboost-1.0.4-cp37-none-manylinux1_x86_64.whl (76.1 MB)\n",
            "\u001b[K     |████████████████████████████████| 76.1 MB 1.2 MB/s \n",
            "\u001b[?25hRequirement already satisfied: graphviz in /usr/local/lib/python3.7/dist-packages (from catboost) (0.10.1)\n",
            "Requirement already satisfied: matplotlib in /usr/local/lib/python3.7/dist-packages (from catboost) (3.2.2)\n",
            "Requirement already satisfied: numpy>=1.16.0 in /usr/local/lib/python3.7/dist-packages (from catboost) (1.19.5)\n",
            "Requirement already satisfied: six in /usr/local/lib/python3.7/dist-packages (from catboost) (1.15.0)\n",
            "Requirement already satisfied: scipy in /usr/local/lib/python3.7/dist-packages (from catboost) (1.4.1)\n",
            "Requirement already satisfied: plotly in /usr/local/lib/python3.7/dist-packages (from catboost) (4.4.1)\n",
            "Requirement already satisfied: pandas>=0.24.0 in /usr/local/lib/python3.7/dist-packages (from catboost) (1.1.5)\n",
            "Requirement already satisfied: python-dateutil>=2.7.3 in /usr/local/lib/python3.7/dist-packages (from pandas>=0.24.0->catboost) (2.8.2)\n",
            "Requirement already satisfied: pytz>=2017.2 in /usr/local/lib/python3.7/dist-packages (from pandas>=0.24.0->catboost) (2018.9)\n",
            "Requirement already satisfied: cycler>=0.10 in /usr/local/lib/python3.7/dist-packages (from matplotlib->catboost) (0.11.0)\n",
            "Requirement already satisfied: kiwisolver>=1.0.1 in /usr/local/lib/python3.7/dist-packages (from matplotlib->catboost) (1.3.2)\n",
            "Requirement already satisfied: pyparsing!=2.0.4,!=2.1.2,!=2.1.6,>=2.0.1 in /usr/local/lib/python3.7/dist-packages (from matplotlib->catboost) (3.0.6)\n",
            "Requirement already satisfied: retrying>=1.3.3 in /usr/local/lib/python3.7/dist-packages (from plotly->catboost) (1.3.3)\n",
            "Installing collected packages: catboost\n",
            "Successfully installed catboost-1.0.4\n"
          ]
        }
      ]
    },
    {
      "cell_type": "markdown",
      "source": [
        "## Анализ задачи\n",
        "**Цель** - определить, зависим ли человек от различных легальных и нелегальных препаратов и продуктов, на основе разнообразных признаков, в том числе, психологических\n",
        "\n",
        "**Где такая задача может быть применима?**\n",
        "\n",
        "Знание о возможных зависимостях человека может пригодиться при найме сотрудников критически важные объекты, силовые структуры, на отвественные места в предприятиях (например, управленческие должности)\n",
        "\n",
        "С этой точки зрения, ошибки FN опаснее, чем FP. Т.к. при ошибке FP возможны либо какие-то медицинские тесты, либо более тщательная психологическая проверка, либо просто отказ в устройстве на работу, а при ошибке FN - есть вероятность, что такой сотрудник может подвести, что опасно в силу критической важности его работы\n",
        "\n",
        "Поэтому в качестве метрики для данной адачи логично взять **sensitivity** (recall)\n",
        "\n",
        "Но зависимости от разных препаратов и продуктов из этого списка обладают разными рисками для здоровья, внимания, трудоспособности и т.д. Поэтому нужно задать веса, с которыми будут усредняться значения метрики для каждого целевого признака. (например, для кофе и шоколада - 1, для сигарет - 3, для тяжелых наркотиков, таких, как героин, метамфетамин и т.п. - 10)"
      ],
      "metadata": {
        "id": "8gXnY5txTsLp"
      }
    },
    {
      "cell_type": "markdown",
      "source": [
        "## Чистка и разбиение данных\n",
        "Отбросим ложные записи с теми респондентами, кто отвечал положительно на использование выдуманного наркотика \"Semeron\"  \n",
        "Разделим датасет на признаковый и целевой"
      ],
      "metadata": {
        "id": "RIIua-WITsLq"
      }
    },
    {
      "cell_type": "code",
      "source": [
        "if 30 in data.columns:\n",
        "  data = data[data[30]=='CL0'].drop(30, axis=1)\n",
        "target_cols = list(range(13,30))\n",
        "target_cols.append(31)\n",
        "target = data[target_cols]\n",
        "X = data.drop(target_cols, axis=1)"
      ],
      "metadata": {
        "id": "G_GDBLg0TsLq"
      },
      "execution_count": null,
      "outputs": []
    },
    {
      "cell_type": "markdown",
      "source": [
        "Бинаризируем целевые данные, как указано в описании к датасету   \n",
        "Разобьем данные на обучающую и тестовую выборки "
      ],
      "metadata": {
        "id": "7VuimfE0TsLr"
      }
    },
    {
      "cell_type": "code",
      "source": [
        "replace_dict = dict()\n",
        "for i in range(7):\n",
        "  replace_dict[f'CL{i}'] = int(i>1) \n",
        "y = target.replace(to_replace=replace_dict)\n",
        "\n",
        "X_train, X_test, y_train, y_test = train_test_split(X, y, test_size=0.2, random_state=1)"
      ],
      "metadata": {
        "id": "Z18wQwjLTsLr"
      },
      "execution_count": null,
      "outputs": []
    },
    {
      "cell_type": "markdown",
      "source": [
        "## Категориальные признаки\n",
        "\n",
        "Для отбора признаков воспользуемся критерием Хи-квадрат  \n",
        "Преобразуем данные в неотрицательные так, чтобы сохранились категории"
      ],
      "metadata": {
        "id": "pZFa2Pq6TsLs"
      }
    },
    {
      "cell_type": "code",
      "source": [
        "X_non_neg_train = X_train - np.min(X_train, axis=0) \n",
        "all(X_non_neg_train.nunique() == X_train.nunique()) #совпадают ли количества уникальных значений во всех столбцах?"
      ],
      "metadata": {
        "colab": {
          "base_uri": "https://localhost:8080/"
        },
        "outputId": "d0c8f0d4-2f8c-4803-8112-4d8be905f8e6",
        "id": "Y11ZUYUgTsLs"
      },
      "execution_count": null,
      "outputs": [
        {
          "output_type": "execute_result",
          "data": {
            "text/plain": [
              "True"
            ]
          },
          "metadata": {},
          "execution_count": 6
        }
      ]
    },
    {
      "cell_type": "code",
      "source": [
        "fs = SelectKBest(score_func=chi2, k='all')\n",
        "fs.fit(X_non_neg_train, y_train)\n",
        "plt.bar(X.columns, fs.scores_, tick_label=X.columns)\n",
        "plt.title('Хи^2 статистики для признаков');"
      ],
      "metadata": {
        "colab": {
          "base_uri": "https://localhost:8080/",
          "height": 281
        },
        "outputId": "6714fe6f-7911-4a13-e83b-416ebc15c283",
        "id": "jjDdc_kYTsLt"
      },
      "execution_count": null,
      "outputs": [
        {
          "output_type": "display_data",
          "data": {
            "image/png": "[encoded data removed]",
            "text/plain": [
              "<Figure size 432x288 with 1 Axes>"
            ]
          },
          "metadata": {
            "needs_background": "light"
          }
        }
      ]
    },
    {
      "cell_type": "markdown",
      "source": [
        "Заметно, что 2 признака: 5 и 7, имеют низкий показатель, отбросим их"
      ],
      "metadata": {
        "id": "u5y0tzJQTsLt"
      }
    },
    {
      "cell_type": "code",
      "source": [
        "fs = SelectKBest(score_func=chi2, k=10)\n",
        "fs.fit(X_non_neg_train, y_train)\n",
        "X_train = fs.transform(X_train)\n",
        "X_test = fs.transform(X_test)\n",
        "X_train.shape"
      ],
      "metadata": {
        "colab": {
          "base_uri": "https://localhost:8080/"
        },
        "outputId": "8b448e16-9b5a-44a7-b1b7-d180bdefbba0",
        "id": "-fyLNUJtTsLu"
      },
      "execution_count": null,
      "outputs": [
        {
          "output_type": "execute_result",
          "data": {
            "text/plain": [
              "(1501, 10)"
            ]
          },
          "metadata": {},
          "execution_count": 8
        }
      ]
    },
    {
      "cell_type": "markdown",
      "source": [
        "Закодируем категориальные данные  \n",
        "Количество уникальных значений каждого категориального признака"
      ],
      "metadata": {
        "id": "fF0iVqe7TsLu"
      }
    },
    {
      "cell_type": "code",
      "source": [
        "X.nunique()"
      ],
      "metadata": {
        "colab": {
          "base_uri": "https://localhost:8080/"
        },
        "outputId": "e6423801-5793-4743-baae-84c727523db1",
        "id": "qjoDJ-ReTsLv"
      },
      "execution_count": null,
      "outputs": [
        {
          "output_type": "execute_result",
          "data": {
            "text/plain": [
              "1      6\n",
              "2      2\n",
              "3      9\n",
              "4      7\n",
              "5      7\n",
              "6     49\n",
              "7     42\n",
              "8     35\n",
              "9     41\n",
              "10    41\n",
              "11    10\n",
              "12    11\n",
              "dtype: int64"
            ]
          },
          "metadata": {},
          "execution_count": 9
        }
      ]
    },
    {
      "cell_type": "markdown",
      "source": [
        "Т.к. признаков не так много (12) и их уникальных значений тоже, то можно применить One-Hot Encoding"
      ],
      "metadata": {
        "id": "Lf6auP5WTsLv"
      }
    },
    {
      "cell_type": "code",
      "source": [
        "dummies = pd.get_dummies(pd.DataFrame(np.vstack((X_train, X_test))), columns=range(X_train.shape[1]))\n",
        "X_train = np.array(dummies.iloc[:X_train.shape[0],:])\n",
        "X_test = np.array(dummies.iloc[X_train.shape[0]:,:])"
      ],
      "metadata": {
        "id": "B1jsM3H4TsLv"
      },
      "execution_count": null,
      "outputs": []
    },
    {
      "cell_type": "markdown",
      "source": [
        "Рассмотрим баланс классов в целевых признаках"
      ],
      "metadata": {
        "id": "XL__MbLnTsLw"
      }
    },
    {
      "cell_type": "code",
      "source": [
        "fig, axs = plt.subplots(2,9, figsize=(16,6), sharex=True, sharey=True)\n",
        "fig.suptitle('Баланс классов целевых признаков')\n",
        "\n",
        "for i in range(2):\n",
        "  for j in range(9):\n",
        "    axs[i,j].bar(y.iloc[:,9*i+j].value_counts().index, height=y.iloc[:,9*i+j].value_counts().values)\n",
        "    axs[i,j].set_title(f'Feature {y.columns[9*i+j]}')\n",
        "    axs[i,j].set_xlabel('Класс')\n",
        "    axs[i,j].set_ylabel('Количество записей');\n",
        "\n",
        "for ax in axs.flat:\n",
        "    ax.label_outer()"
      ],
      "metadata": {
        "colab": {
          "base_uri": "https://localhost:8080/",
          "height": 431
        },
        "outputId": "5ddd5d46-0f54-4cb0-de90-d8fab713c822",
        "id": "nnn_GJTgTsLw"
      },
      "execution_count": null,
      "outputs": [
        {
          "output_type": "display_data",
          "data": {
            "image/png": "[encoded data removed]",
            "text/plain": [
              "<Figure size 1152x432 with 18 Axes>"
            ]
          },
          "metadata": {
            "needs_background": "light"
          }
        }
      ]
    },
    {
      "cell_type": "markdown",
      "source": [
        "Классы несбалансированны, поэтому будем использовать сбалансированные веса при обучении моеделей\n",
        "\n",
        "## Отбор моделей\n",
        "Будем обучать модель на каждую целевую переменную, подбирая параметры для каждой отдельно по кросс-валидации с метрикой Recall\n",
        "\n",
        "Выбор будем делать из нескольких алгоритмов\n",
        "- SVM\n",
        "- Случайный лес\n",
        "- Логистическая регрессия\n",
        "- Градиентный бустинг\n",
        "\n",
        "Общее качество примененных алгоритмов будем сравнивать по взвешенной макроусредненной метрике Recall, чтобы правильно учитывались ошибки для каждого целевого признака"
      ],
      "metadata": {
        "id": "dAk9A5buTsLx"
      }
    },
    {
      "cell_type": "code",
      "source": [
        "label_weights = np.array([4,10,5,5,1,5,1,10,10,8,10,8,5,10,10,8,3,5]) \n",
        "\n",
        "def weighted_labels(y, weights=None):\n",
        "  if weights is None:\n",
        "      weights = np.ones(18) \n",
        "  norm_weights = weights / sum(weights)\n",
        "  return np.sum(np.multiply(y, norm_weights))"
      ],
      "metadata": {
        "id": "802y2bGQdESy"
      },
      "execution_count": null,
      "outputs": []
    },
    {
      "cell_type": "code",
      "source": [
        "class MultiLabelModel:\n",
        "  \n",
        "  def __init__(self, estimator, cv=4, scoring='recall'):\n",
        "    self.cv = 4\n",
        "    self.est = estimator\n",
        "    self.scoring = scoring\n",
        "\n",
        "  def fit(self, X_, y_, grid):\n",
        "    X = np.array(X_)\n",
        "    y = np.array(y_)\n",
        "    self.models = []\n",
        "    self.score_ = []\n",
        "    self.best_params_ = []\n",
        "    for i in range(y.shape[1]):\n",
        "      y_tar = y[:,i]\n",
        "      cv = GridSearchCV(self.est, grid, cv=self.cv, scoring=self.scoring)\n",
        "      cv.fit(X, y_tar)\n",
        "      self.best_params_.append(cv.best_params_)\n",
        "      self.score_.append(cv.best_score_)\n",
        "      self.models.append(cv)\n",
        "\n",
        "  def predict(self, X_):\n",
        "    X = np.array(X_)\n",
        "    y = np.zeros((X.shape[0], len(self.models)), dtype='int')\n",
        "    for i in range(len(self.models)):\n",
        "      y[:,i] = self.models[i].predict(X)\n",
        "    return y"
      ],
      "metadata": {
        "id": "M_rvwNDSTsLy"
      },
      "execution_count": null,
      "outputs": []
    },
    {
      "cell_type": "markdown",
      "source": [
        "## SVC RBF"
      ],
      "metadata": {
        "id": "Jm4Ss16nTsLy"
      }
    },
    {
      "cell_type": "code",
      "source": [
        "mlm_svc_rbf_grid = {'C' : np.logspace(-3,1,20),\n",
        "                    'kernel' : ['rbf'],\n",
        "                    'class_weight' : ['balanced']}\n",
        "\n",
        "mlm_svc_rbf = MultiLabelModel(SVC())\n",
        "mlm_svc_rbf.fit(X_train, y_train, mlm_svc_rbf_grid)"
      ],
      "metadata": {
        "id": "TxVrS101TsLy"
      },
      "execution_count": null,
      "outputs": []
    },
    {
      "cell_type": "code",
      "source": [
        "print(f'Best weighted macro averaged score = {weighted_labels(mlm_svc_rbf.score_, label_weights)}')"
      ],
      "metadata": {
        "colab": {
          "base_uri": "https://localhost:8080/"
        },
        "id": "ZOGS3386gfwV",
        "outputId": "8b131a18-8719-445e-b5f3-498db57eb9b5"
      },
      "execution_count": null,
      "outputs": [
        {
          "output_type": "stream",
          "name": "stdout",
          "text": [
            "Best weighted macro averaged score = 0.8590507957546341\n"
          ]
        }
      ]
    },
    {
      "cell_type": "markdown",
      "source": [
        "## SVC sigmoid"
      ],
      "metadata": {
        "id": "DoK5aibPTsLz"
      }
    },
    {
      "cell_type": "code",
      "source": [
        "mlm_svc_sig_grid = {'C' : np.logspace(-3,1,20),\n",
        "                    'kernel' : ['sigmoid'],\n",
        "                    'class_weight' : ['balanced']}\n",
        "\n",
        "mlm_svc_sig = MultiLabelModel(SVC())\n",
        "mlm_svc_sig.fit(X_train, y_train, mlm_svc_sig_grid)"
      ],
      "metadata": {
        "id": "w1hrXrvSTsL0"
      },
      "execution_count": null,
      "outputs": []
    },
    {
      "cell_type": "code",
      "source": [
        "print(f'Best weighted macro averaged score = {weighted_labels(mlm_svc_sig.score_, label_weights)}')"
      ],
      "metadata": {
        "colab": {
          "base_uri": "https://localhost:8080/"
        },
        "outputId": "41adb589-7575-43d5-ac12-541e4f14ad10",
        "id": "n8TwNjAPTsL0"
      },
      "execution_count": null,
      "outputs": [
        {
          "output_type": "stream",
          "name": "stdout",
          "text": [
            "Best weighted macro averaged score = 0.8292175956128898\n"
          ]
        }
      ]
    },
    {
      "cell_type": "markdown",
      "source": [
        "## Logistic Regression "
      ],
      "metadata": {
        "id": "kXigflA4TsL0"
      }
    },
    {
      "cell_type": "code",
      "source": [
        "mlm_logreg_grid = {'solver' :['lbfgs', 'newton-cg'],\n",
        "                  'C' : np.logspace(-3,1,20),\n",
        "                  'class_weight' : ['balanced'],\n",
        "                  'max_iter' : [1000]}\n",
        "\n",
        "mlm_logreg = MultiLabelModel(LogisticRegression())\n",
        "mlm_logreg.fit(X_train, y_train, mlm_logreg_grid)"
      ],
      "metadata": {
        "id": "0_7I48kGTsL1"
      },
      "execution_count": null,
      "outputs": []
    },
    {
      "cell_type": "code",
      "source": [
        "print(f'Best weighted macro averaged score = {weighted_labels(mlm_logreg.score_, label_weights)}')"
      ],
      "metadata": {
        "colab": {
          "base_uri": "https://localhost:8080/"
        },
        "outputId": "1083b528-eba3-493b-f66e-6f8a00d7f486",
        "id": "gOc8n9bLTsL1"
      },
      "execution_count": null,
      "outputs": [
        {
          "output_type": "stream",
          "name": "stdout",
          "text": [
            "Best weighted macro averaged score = 0.7381164425137825\n"
          ]
        }
      ]
    },
    {
      "cell_type": "markdown",
      "source": [
        "## Random Forest"
      ],
      "metadata": {
        "id": "TdHu8_TrTsL2"
      }
    },
    {
      "cell_type": "code",
      "source": [
        "mlm_rf_grid = {'n_estimators' : [50, 100, 200],\n",
        "              'max_depth' : [2, 3, 4],\n",
        "              'class_weight' : ['balanced'],\n",
        "              'criterion' : ['gini', 'entropy']}\n",
        "\n",
        "mlm_rf = MultiLabelModel(RandomForestClassifier())\n",
        "mlm_rf.fit(X_train, y_train, mlm_rf_grid)"
      ],
      "metadata": {
        "id": "uBP733dpTsL2"
      },
      "execution_count": null,
      "outputs": []
    },
    {
      "cell_type": "code",
      "source": [
        "print(f'Best weighted macro averaged score = {weighted_labels(mlm_rf.score_, label_weights)}')"
      ],
      "metadata": {
        "colab": {
          "base_uri": "https://localhost:8080/"
        },
        "outputId": "bf38e2c3-c0f3-4c1c-843b-0c2a7b6690c4",
        "id": "a2sJ5LruTsL2"
      },
      "execution_count": null,
      "outputs": [
        {
          "output_type": "stream",
          "name": "stdout",
          "text": [
            "Best weighted macro averaged score = 0.7269895172852657\n"
          ]
        }
      ]
    },
    {
      "cell_type": "markdown",
      "source": [
        "## CatBoost"
      ],
      "metadata": {
        "id": "WRu83kK8TsL3"
      }
    },
    {
      "cell_type": "code",
      "source": [
        "mlm_catb_grid = {'learning_rate' : [0.05, 0.005],\n",
        "                  'iterations' : [1000],\n",
        "                  'depth': [4,6],\n",
        "                  'l2_leaf_reg': [1,5], \n",
        "                  'verbose' : [0],\n",
        "                  'eval_metric' : ['Recall'],\n",
        "                  'early_stopping_rounds' : [300],\n",
        "                  'auto_class_weights' : ['Balanced']}\n",
        "\n",
        "mlm_catb = MultiLabelModel(CatBoostClassifier())\n",
        "mlm_catb.fit(X_train, y_train, mlm_catb_grid)"
      ],
      "metadata": {
        "id": "5FD7eQUNTsL3"
      },
      "execution_count": null,
      "outputs": []
    },
    {
      "cell_type": "code",
      "source": [
        "print(f'Best weighted macro averaged score = {weighted_labels(mlm_catb.score_, label_weights)}')"
      ],
      "metadata": {
        "colab": {
          "base_uri": "https://localhost:8080/"
        },
        "outputId": "62b792d4-8d28-4086-dc2f-1be41802a2f4",
        "id": "Y2NnjdGbTsL4"
      },
      "execution_count": null,
      "outputs": [
        {
          "output_type": "stream",
          "name": "stdout",
          "text": [
            "Best weighted macro averaged score = 0.7321718713117924\n"
          ]
        }
      ]
    },
    {
      "cell_type": "markdown",
      "source": [
        "Лучший результат на кросс-валидации показал алгоритм SVC с ядром rbf и параметрами (для каждой целевой переменной):"
      ],
      "metadata": {
        "id": "muG8NjIyTsL4"
      }
    },
    {
      "cell_type": "code",
      "source": [
        "mlm_svc_rbf.best_params_"
      ],
      "metadata": {
        "colab": {
          "base_uri": "https://localhost:8080/"
        },
        "outputId": "2b154930-d766-4034-f3f5-b60b621a2b80",
        "id": "r3TW21Z0TsL5"
      },
      "execution_count": null,
      "outputs": [
        {
          "output_type": "execute_result",
          "data": {
            "text/plain": [
              "[{'C': 0.001, 'class_weight': 'balanced', 'kernel': 'rbf'},\n",
              " {'C': 0.001, 'class_weight': 'balanced', 'kernel': 'rbf'},\n",
              " {'C': 0.04832930238571752, 'class_weight': 'balanced', 'kernel': 'rbf'},\n",
              " {'C': 0.0026366508987303583, 'class_weight': 'balanced', 'kernel': 'rbf'},\n",
              " {'C': 0.001, 'class_weight': 'balanced', 'kernel': 'rbf'},\n",
              " {'C': 6.158482110660261, 'class_weight': 'balanced', 'kernel': 'rbf'},\n",
              " {'C': 0.011288378916846888, 'class_weight': 'balanced', 'kernel': 'rbf'},\n",
              " {'C': 0.5455594781168515, 'class_weight': 'balanced', 'kernel': 'rbf'},\n",
              " {'C': 0.001623776739188721, 'class_weight': 'balanced', 'kernel': 'rbf'},\n",
              " {'C': 0.018329807108324356, 'class_weight': 'balanced', 'kernel': 'rbf'},\n",
              " {'C': 0.001, 'class_weight': 'balanced', 'kernel': 'rbf'},\n",
              " {'C': 0.07847599703514611, 'class_weight': 'balanced', 'kernel': 'rbf'},\n",
              " {'C': 0.001, 'class_weight': 'balanced', 'kernel': 'rbf'},\n",
              " {'C': 0.20691380811147903, 'class_weight': 'balanced', 'kernel': 'rbf'},\n",
              " {'C': 0.20691380811147903, 'class_weight': 'balanced', 'kernel': 'rbf'},\n",
              " {'C': 0.011288378916846888, 'class_weight': 'balanced', 'kernel': 'rbf'},\n",
              " {'C': 0.004281332398719396, 'class_weight': 'balanced', 'kernel': 'rbf'},\n",
              " {'C': 0.07847599703514611, 'class_weight': 'balanced', 'kernel': 'rbf'}]"
            ]
          },
          "metadata": {},
          "execution_count": 110
        }
      ]
    },
    {
      "cell_type": "markdown",
      "source": [
        "Рассмотрим конечную точность полученной модели  "
      ],
      "metadata": {
        "id": "M4mRAM5cTsL5"
      }
    },
    {
      "cell_type": "code",
      "source": [
        "y_pred = mlm_svc_rbf.predict(X_test)\n",
        "weighted_labels(recall_score(y_test, y_pred, average=None), label_weights)"
      ],
      "metadata": {
        "colab": {
          "base_uri": "https://localhost:8080/"
        },
        "outputId": "37c8a1ac-6a01-4d48-e614-ec599b6bbdf0",
        "id": "jbmjFhNOTsL6"
      },
      "execution_count": null,
      "outputs": [
        {
          "output_type": "execute_result",
          "data": {
            "text/plain": [
              "0.7414598772718838"
            ]
          },
          "metadata": {},
          "execution_count": 111
        }
      ]
    }
  ]
}